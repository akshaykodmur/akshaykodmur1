{
 "cells": [
  {
   "cell_type": "code",
   "execution_count": 1,
   "id": "708c8663-8ce9-45b5-88b3-8582bf416b24",
   "metadata": {},
   "outputs": [
    {
     "data": {
      "text/plain": [
       "3"
      ]
     },
     "execution_count": 1,
     "metadata": {},
     "output_type": "execute_result"
    }
   ],
   "source": [
    "1+2"
   ]
  },
  {
   "cell_type": "code",
   "execution_count": 2,
   "id": "4176acec-b343-4b4d-94c6-97f8fb2b8672",
   "metadata": {},
   "outputs": [],
   "source": [
    "a = 10"
   ]
  },
  {
   "cell_type": "code",
   "execution_count": 3,
   "id": "f774745f-01c2-4a51-86f8-01e30febe5f9",
   "metadata": {},
   "outputs": [
    {
     "data": {
      "text/plain": [
       "10"
      ]
     },
     "execution_count": 3,
     "metadata": {},
     "output_type": "execute_result"
    }
   ],
   "source": [
    "a"
   ]
  },
  {
   "cell_type": "code",
   "execution_count": 4,
   "id": "9d614e93-12b0-41f2-95e7-0133e00128a5",
   "metadata": {},
   "outputs": [],
   "source": [
    "sudh = 456987123"
   ]
  },
  {
   "cell_type": "code",
   "execution_count": 5,
   "id": "7c4ac5db-d3d6-4c48-9b71-2a1737841810",
   "metadata": {},
   "outputs": [
    {
     "data": {
      "text/plain": [
       "456987123"
      ]
     },
     "execution_count": 5,
     "metadata": {},
     "output_type": "execute_result"
    }
   ],
   "source": [
    "sudh"
   ]
  },
  {
   "cell_type": "code",
   "execution_count": 6,
   "id": "85f035ca-07b4-43c6-9d22-99e8a73e0536",
   "metadata": {},
   "outputs": [
    {
     "data": {
      "text/plain": [
       "int"
      ]
     },
     "execution_count": 6,
     "metadata": {},
     "output_type": "execute_result"
    }
   ],
   "source": [
    "type(a)"
   ]
  },
  {
   "cell_type": "code",
   "execution_count": 7,
   "id": "58bf62d2-b8c4-44d2-99d7-7d5551d06a00",
   "metadata": {},
   "outputs": [],
   "source": [
    "s = \"pwskills\""
   ]
  },
  {
   "cell_type": "code",
   "execution_count": 8,
   "id": "d273bebf-ce93-4b79-9ce7-47276f4d55a1",
   "metadata": {},
   "outputs": [
    {
     "data": {
      "text/plain": [
       "str"
      ]
     },
     "execution_count": 8,
     "metadata": {},
     "output_type": "execute_result"
    }
   ],
   "source": [
    "type(s)"
   ]
  },
  {
   "cell_type": "code",
   "execution_count": 9,
   "id": "ee883891-4b5e-45b8-a115-e59b5b601d8a",
   "metadata": {},
   "outputs": [
    {
     "data": {
      "text/plain": [
       "'pwskills'"
      ]
     },
     "execution_count": 9,
     "metadata": {},
     "output_type": "execute_result"
    }
   ],
   "source": [
    "s"
   ]
  },
  {
   "cell_type": "code",
   "execution_count": 10,
   "id": "af9f8789-444a-4ce7-9af4-97c210935d86",
   "metadata": {},
   "outputs": [],
   "source": [
    "s1 ='this is my first python lecture'"
   ]
  },
  {
   "cell_type": "code",
   "execution_count": 11,
   "id": "221bdec0-547e-4932-a148-d7aa8645def6",
   "metadata": {},
   "outputs": [
    {
     "data": {
      "text/plain": [
       "str"
      ]
     },
     "execution_count": 11,
     "metadata": {},
     "output_type": "execute_result"
    }
   ],
   "source": [
    "type(s1)"
   ]
  },
  {
   "cell_type": "code",
   "execution_count": 12,
   "id": "8c44b002-b526-45ac-afb3-03b26d867c2f",
   "metadata": {},
   "outputs": [
    {
     "data": {
      "text/plain": [
       "'this is my first python lecture'"
      ]
     },
     "execution_count": 12,
     "metadata": {},
     "output_type": "execute_result"
    }
   ],
   "source": [
    "s1"
   ]
  },
  {
   "cell_type": "code",
   "execution_count": 13,
   "id": "6272cdae-9683-4a5e-b442-a4bc0d89da2d",
   "metadata": {},
   "outputs": [],
   "source": [
    "f = 456.676"
   ]
  },
  {
   "cell_type": "code",
   "execution_count": 14,
   "id": "ff90f064-5124-46fe-abaa-5317bef862fc",
   "metadata": {},
   "outputs": [
    {
     "data": {
      "text/plain": [
       "float"
      ]
     },
     "execution_count": 14,
     "metadata": {},
     "output_type": "execute_result"
    }
   ],
   "source": [
    "type(f)"
   ]
  },
  {
   "cell_type": "code",
   "execution_count": 15,
   "id": "c12785ca-cd16-4269-868a-6e87e288b6aa",
   "metadata": {},
   "outputs": [],
   "source": [
    "c = 5 + 6j"
   ]
  },
  {
   "cell_type": "code",
   "execution_count": 16,
   "id": "43f3863a-5411-40f0-8aa4-0d501ef8801e",
   "metadata": {},
   "outputs": [
    {
     "data": {
      "text/plain": [
       "complex"
      ]
     },
     "execution_count": 16,
     "metadata": {},
     "output_type": "execute_result"
    }
   ],
   "source": [
    "type(c)"
   ]
  },
  {
   "cell_type": "code",
   "execution_count": 17,
   "id": "13642842-7163-47c6-8fdd-e3d46febf7f4",
   "metadata": {},
   "outputs": [
    {
     "data": {
      "text/plain": [
       "(5+6j)"
      ]
     },
     "execution_count": 17,
     "metadata": {},
     "output_type": "execute_result"
    }
   ],
   "source": [
    "c"
   ]
  },
  {
   "cell_type": "code",
   "execution_count": 18,
   "id": "84c13de6-1401-47bf-b0d5-51306da39129",
   "metadata": {},
   "outputs": [
    {
     "data": {
      "text/plain": [
       "5.0"
      ]
     },
     "execution_count": 18,
     "metadata": {},
     "output_type": "execute_result"
    }
   ],
   "source": [
    "c.real"
   ]
  },
  {
   "cell_type": "code",
   "execution_count": 19,
   "id": "68257f1c-760b-4021-9e94-3146f7a53d35",
   "metadata": {},
   "outputs": [
    {
     "data": {
      "text/plain": [
       "6.0"
      ]
     },
     "execution_count": 19,
     "metadata": {},
     "output_type": "execute_result"
    }
   ],
   "source": [
    "c.imag"
   ]
  },
  {
   "cell_type": "code",
   "execution_count": 20,
   "id": "2180dfd9-b8d3-4c97-bb99-47f030626ad1",
   "metadata": {},
   "outputs": [],
   "source": [
    "b = True"
   ]
  },
  {
   "cell_type": "code",
   "execution_count": 21,
   "id": "aac2eb69-bfc4-4909-bdb9-210f1e03596e",
   "metadata": {},
   "outputs": [
    {
     "data": {
      "text/plain": [
       "bool"
      ]
     },
     "execution_count": 21,
     "metadata": {},
     "output_type": "execute_result"
    }
   ],
   "source": [
    "type(b)"
   ]
  },
  {
   "cell_type": "code",
   "execution_count": 22,
   "id": "aa7c5653-9ba1-4d58-b5e9-b49680cdd044",
   "metadata": {},
   "outputs": [],
   "source": [
    "b1 = False"
   ]
  },
  {
   "cell_type": "code",
   "execution_count": 23,
   "id": "ef33f71d-9c85-48a2-bcce-7267778a122d",
   "metadata": {},
   "outputs": [
    {
     "data": {
      "text/plain": [
       "False"
      ]
     },
     "execution_count": 23,
     "metadata": {},
     "output_type": "execute_result"
    }
   ],
   "source": [
    "b1"
   ]
  },
  {
   "cell_type": "code",
   "execution_count": 24,
   "id": "c3a44a1e-55e2-4bef-b494-36c56b945a4a",
   "metadata": {},
   "outputs": [
    {
     "data": {
      "text/plain": [
       "bool"
      ]
     },
     "execution_count": 24,
     "metadata": {},
     "output_type": "execute_result"
    }
   ],
   "source": [
    "type(b1)"
   ]
  },
  {
   "cell_type": "code",
   "execution_count": 25,
   "id": "dc9bd193-62dc-4704-9d74-77c93ab70251",
   "metadata": {},
   "outputs": [],
   "source": [
    "a1 = 45\n",
    "a2 = 34"
   ]
  },
  {
   "cell_type": "code",
   "execution_count": 26,
   "id": "6d175ec3-e92b-4f15-a428-4963da47e676",
   "metadata": {},
   "outputs": [
    {
     "data": {
      "text/plain": [
       "79"
      ]
     },
     "execution_count": 26,
     "metadata": {},
     "output_type": "execute_result"
    }
   ],
   "source": [
    "a1+a2"
   ]
  },
  {
   "cell_type": "code",
   "execution_count": 27,
   "id": "4628c190-765a-4422-b031-f9e48bb1e2e9",
   "metadata": {},
   "outputs": [
    {
     "data": {
      "text/plain": [
       "1530"
      ]
     },
     "execution_count": 27,
     "metadata": {},
     "output_type": "execute_result"
    }
   ],
   "source": [
    "a1*a2"
   ]
  },
  {
   "cell_type": "code",
   "execution_count": 28,
   "id": "c061579e-21a0-4f8e-b4a1-195c0e037f05",
   "metadata": {},
   "outputs": [
    {
     "data": {
      "text/plain": [
       "1.3235294117647058"
      ]
     },
     "execution_count": 28,
     "metadata": {},
     "output_type": "execute_result"
    }
   ],
   "source": [
    "a1/a2"
   ]
  },
  {
   "cell_type": "code",
   "execution_count": 29,
   "id": "fc3902bf-1795-4fab-a6a4-c7c5fd21b74f",
   "metadata": {},
   "outputs": [
    {
     "data": {
      "text/plain": [
       "11"
      ]
     },
     "execution_count": 29,
     "metadata": {},
     "output_type": "execute_result"
    }
   ],
   "source": [
    "a1-a2"
   ]
  },
  {
   "cell_type": "code",
   "execution_count": 30,
   "id": "d5ef02af-e682-49d7-b8ad-b3e300338f66",
   "metadata": {},
   "outputs": [
    {
     "data": {
      "text/plain": [
       "1.3235294117647058"
      ]
     },
     "execution_count": 30,
     "metadata": {},
     "output_type": "execute_result"
    }
   ],
   "source": [
    "45/34"
   ]
  },
  {
   "cell_type": "code",
   "execution_count": 31,
   "id": "d857ae5b-b064-4630-917e-9258bc772ff4",
   "metadata": {},
   "outputs": [],
   "source": [
    "a1 ,a2 = 34,45"
   ]
  },
  {
   "cell_type": "code",
   "execution_count": 32,
   "id": "143b27b6-e246-4c40-8c81-a1c1ac0034d4",
   "metadata": {},
   "outputs": [
    {
     "data": {
      "text/plain": [
       "34"
      ]
     },
     "execution_count": 32,
     "metadata": {},
     "output_type": "execute_result"
    }
   ],
   "source": [
    "a1"
   ]
  },
  {
   "cell_type": "code",
   "execution_count": 33,
   "id": "b83a5bcc-4462-471f-bee9-497b1baac389",
   "metadata": {},
   "outputs": [
    {
     "data": {
      "text/plain": [
       "45"
      ]
     },
     "execution_count": 33,
     "metadata": {},
     "output_type": "execute_result"
    }
   ],
   "source": [
    "a2"
   ]
  },
  {
   "cell_type": "code",
   "execution_count": 34,
   "id": "f1cf6852-f718-4710-b93b-44b2efcbc7e3",
   "metadata": {},
   "outputs": [],
   "source": [
    "a,b,c,d = 345,\"sudh\",34.34, True"
   ]
  },
  {
   "cell_type": "code",
   "execution_count": 35,
   "id": "61cd949a-3afc-4a21-9188-b1960b360492",
   "metadata": {},
   "outputs": [
    {
     "data": {
      "text/plain": [
       "345"
      ]
     },
     "execution_count": 35,
     "metadata": {},
     "output_type": "execute_result"
    }
   ],
   "source": [
    "a"
   ]
  },
  {
   "cell_type": "code",
   "execution_count": 36,
   "id": "8864bc46-c85c-496c-b1e4-b9d7766dfeb2",
   "metadata": {},
   "outputs": [
    {
     "data": {
      "text/plain": [
       "'sudh'"
      ]
     },
     "execution_count": 36,
     "metadata": {},
     "output_type": "execute_result"
    }
   ],
   "source": [
    "b"
   ]
  },
  {
   "cell_type": "code",
   "execution_count": 37,
   "id": "bcd60814-1068-42a3-8918-638914c92a2e",
   "metadata": {},
   "outputs": [
    {
     "data": {
      "text/plain": [
       "34.34"
      ]
     },
     "execution_count": 37,
     "metadata": {},
     "output_type": "execute_result"
    }
   ],
   "source": [
    "c"
   ]
  },
  {
   "cell_type": "code",
   "execution_count": 38,
   "id": "16341d8a-2a03-4d69-99e2-07506d60d39e",
   "metadata": {},
   "outputs": [
    {
     "data": {
      "text/plain": [
       "True"
      ]
     },
     "execution_count": 38,
     "metadata": {},
     "output_type": "execute_result"
    }
   ],
   "source": [
    "d"
   ]
  },
  {
   "cell_type": "code",
   "execution_count": 39,
   "id": "51188cad-427e-43a5-abdc-66da1cd2cb98",
   "metadata": {},
   "outputs": [
    {
     "name": "stderr",
     "output_type": "stream",
     "text": [
      "UsageError: Line magic function `%a` not found.\n"
     ]
    }
   ],
   "source": [
    "%a = 234"
   ]
  },
  {
   "cell_type": "code",
   "execution_count": null,
   "id": "6a22a0b5-8bd8-405b-9074-77574e8784e4",
   "metadata": {},
   "outputs": [],
   "source": [
    "0b = 556544"
   ]
  },
  {
   "cell_type": "code",
   "execution_count": null,
   "id": "ca0c56b7-fdac-4120-ba60-d6495836780b",
   "metadata": {},
   "outputs": [],
   "source": [
    "b0 = 234"
   ]
  },
  {
   "cell_type": "code",
   "execution_count": null,
   "id": "e6262970-ae45-43ef-99a1-e937d349ec19",
   "metadata": {},
   "outputs": [],
   "source": [
    "@h = 3245"
   ]
  },
  {
   "cell_type": "code",
   "execution_count": null,
   "id": "33b9bfca-e3b5-4166-ba98-75dd19062327",
   "metadata": {},
   "outputs": [],
   "source": [
    "_a = 34"
   ]
  },
  {
   "cell_type": "code",
   "execution_count": null,
   "id": "679fc6c5-2499-45ed-9bff-1bcc6136c2c5",
   "metadata": {},
   "outputs": [],
   "source": [
    "-b = 234"
   ]
  },
  {
   "cell_type": "code",
   "execution_count": null,
   "id": "0fabe562-c390-4e91-a55d-95e1aacf0419",
   "metadata": {},
   "outputs": [],
   "source": [
    "True = 45"
   ]
  },
  {
   "cell_type": "code",
   "execution_count": null,
   "id": "8e631f65-d5e9-4806-9d7c-82d6925b996e",
   "metadata": {},
   "outputs": [],
   "source": [
    "int = 345"
   ]
  },
  {
   "cell_type": "code",
   "execution_count": null,
   "id": "800db7e6-548e-4848-bcba-a120e1646c25",
   "metadata": {},
   "outputs": [],
   "source": [
    "int"
   ]
  },
  {
   "cell_type": "code",
   "execution_count": null,
   "id": "c2e76b1b-332b-4ee0-aa94-c8b6bf3c80f6",
   "metadata": {},
   "outputs": [],
   "source": [
    "b1 = True"
   ]
  },
  {
   "cell_type": "code",
   "execution_count": null,
   "id": "224ec2a2-ce2a-43f0-bfb1-e58656558d9c",
   "metadata": {},
   "outputs": [],
   "source": [
    "b2 = False"
   ]
  },
  {
   "cell_type": "code",
   "execution_count": null,
   "id": "8fbacb5e-4607-4e35-8d9a-58e69c53eb10",
   "metadata": {},
   "outputs": [],
   "source": [
    "b1 - b2"
   ]
  },
  {
   "cell_type": "code",
   "execution_count": null,
   "id": "4d7f20c4-2e05-4f42-bf1c-784ca8f37560",
   "metadata": {},
   "outputs": [],
   "source": [
    "b1/b2"
   ]
  },
  {
   "cell_type": "code",
   "execution_count": null,
   "id": "17273590-c1bd-4832-90f2-5ea407af236a",
   "metadata": {},
   "outputs": [],
   "source": [
    "s1 = 'my name is akshay'"
   ]
  },
  {
   "cell_type": "code",
   "execution_count": null,
   "id": "68d97a82-5f24-4d41-9719-685e2aa4a454",
   "metadata": {},
   "outputs": [],
   "source": [
    "s1\n"
   ]
  },
  {
   "cell_type": "code",
   "execution_count": null,
   "id": "b5e33177-998b-49c6-9d4e-887338ac1a04",
   "metadata": {},
   "outputs": [],
   "source": [
    "type(s1)"
   ]
  },
  {
   "cell_type": "code",
   "execution_count": null,
   "id": "ec817e46-7766-4c4b-8259-af6097d696f2",
   "metadata": {},
   "outputs": [],
   "source": [
    "s1"
   ]
  },
  {
   "cell_type": "code",
   "execution_count": null,
   "id": "b917954c-b14f-4123-a9a6-4ee2902a7748",
   "metadata": {},
   "outputs": [],
   "source": [
    "s2 = \"this is my first python class for dada science master's\""
   ]
  },
  {
   "cell_type": "code",
   "execution_count": null,
   "id": "e1be2752-f35d-4fbd-b518-e026d4a72078",
   "metadata": {},
   "outputs": [],
   "source": [
    "s2"
   ]
  },
  {
   "cell_type": "code",
   "execution_count": null,
   "id": "4d0e1997-d692-46b6-8dc1-521961bf09d9",
   "metadata": {},
   "outputs": [],
   "source": [
    "#this is my code to create a string variable with quotes\n",
    "\n",
    "\n",
    "s3='this is my first python class for dada science master\"s'"
   ]
  },
  {
   "cell_type": "code",
   "execution_count": null,
   "id": "aa049eea-2825-48d0-859e-a408f8026549",
   "metadata": {},
   "outputs": [],
   "source": [
    "'''this is my first python class\n",
    "i am trying to learn variable declaration\n",
    "so for i have learnt int , boolean, string , complex number , float variable declaration'''\n",
    "a = 10"
   ]
  },
  {
   "cell_type": "code",
   "execution_count": null,
   "id": "1992af29-41b8-4944-9aad-b00ae0fcbfa2",
   "metadata": {},
   "outputs": [],
   "source": [
    "s1 = \"sudh\""
   ]
  },
  {
   "cell_type": "code",
   "execution_count": null,
   "id": "369655cc-774c-4165-b6c3-d157e4c7d7a1",
   "metadata": {},
   "outputs": [],
   "source": [
    "a = 10"
   ]
  },
  {
   "cell_type": "code",
   "execution_count": null,
   "id": "7c520795-d09b-4637-af5c-f9fdce7570ac",
   "metadata": {},
   "outputs": [],
   "source": [
    "s1 + str(a)"
   ]
  },
  {
   "cell_type": "code",
   "execution_count": null,
   "id": "04e88f15-1c89-4f60-a173-0ee1b19b29ee",
   "metadata": {},
   "outputs": [],
   "source": [
    "'sudh'   +    'kumar'"
   ]
  },
  {
   "cell_type": "code",
   "execution_count": null,
   "id": "b51d713e-177d-4251-bd69-4f8f83849b08",
   "metadata": {},
   "outputs": [],
   "source": [
    "a"
   ]
  },
  {
   "cell_type": "code",
   "execution_count": null,
   "id": "e41f9d94-9ab7-4e3d-8cd2-580607864703",
   "metadata": {},
   "outputs": [],
   "source": [
    "type(a)"
   ]
  },
  {
   "cell_type": "code",
   "execution_count": null,
   "id": "3a17b148-1cd2-4e4e-b5e7-d2ceef251a15",
   "metadata": {},
   "outputs": [],
   "source": [
    "str(a)"
   ]
  },
  {
   "cell_type": "code",
   "execution_count": null,
   "id": "3ab697d1-3f2a-48c3-b627-071682132f0e",
   "metadata": {},
   "outputs": [],
   "source": [
    "'10'"
   ]
  },
  {
   "cell_type": "code",
   "execution_count": null,
   "id": "fd78466d-6941-4efc-864c-58387bf2d05d",
   "metadata": {},
   "outputs": [],
   "source": [
    "s1 + \" \" + str(10)"
   ]
  },
  {
   "cell_type": "code",
   "execution_count": null,
   "id": "cc1fdcea-e191-43d9-b247-74c85cd4dbab",
   "metadata": {},
   "outputs": [],
   "source": [
    "a"
   ]
  },
  {
   "cell_type": "code",
   "execution_count": null,
   "id": "c2664dee-b859-4782-b901-40f1bd6043c3",
   "metadata": {},
   "outputs": [],
   "source": [
    "b = str(a)"
   ]
  },
  {
   "cell_type": "code",
   "execution_count": null,
   "id": "37e5ad0c-a6e0-45cb-a941-d61d8d34bb6d",
   "metadata": {},
   "outputs": [],
   "source": [
    "b"
   ]
  },
  {
   "cell_type": "code",
   "execution_count": null,
   "id": "2012af7f-7e94-489d-b546-9e6e38aae96d",
   "metadata": {},
   "outputs": [],
   "source": [
    "int(b)"
   ]
  },
  {
   "cell_type": "code",
   "execution_count": null,
   "id": "6b98a668-eb6f-4ccd-9c70-67b93b6fdd1b",
   "metadata": {},
   "outputs": [],
   "source": [
    "s = \"sudh\""
   ]
  },
  {
   "cell_type": "code",
   "execution_count": null,
   "id": "282e4352-2086-4444-bcda-4b3bdabc8c28",
   "metadata": {},
   "outputs": [],
   "source": [
    "int(s)"
   ]
  },
  {
   "cell_type": "code",
   "execution_count": 44,
   "id": "e4b729b0-e54c-4629-ab70-6be200df5b2f",
   "metadata": {},
   "outputs": [],
   "source": [
    "a = 453253\n"
   ]
  },
  {
   "cell_type": "code",
   "execution_count": 87,
   "id": "d25ed31d-b80e-4dc0-9c0d-0d1af43f226f",
   "metadata": {},
   "outputs": [
    {
     "name": "stdin",
     "output_type": "stream",
     "text": [
      " True\n"
     ]
    }
   ],
   "source": [
    "b = bool(input())"
   ]
  },
  {
   "cell_type": "code",
   "execution_count": 88,
   "id": "70b8b4ce-cae0-4861-9c74-230b8c0959c0",
   "metadata": {},
   "outputs": [
    {
     "data": {
      "text/plain": [
       "True"
      ]
     },
     "execution_count": 88,
     "metadata": {},
     "output_type": "execute_result"
    }
   ],
   "source": [
    "b"
   ]
  },
  {
   "cell_type": "code",
   "execution_count": 89,
   "id": "ee227c2f-b7cd-4edc-ac21-531b451d1688",
   "metadata": {},
   "outputs": [
    {
     "data": {
      "text/plain": [
       "bool"
      ]
     },
     "execution_count": 89,
     "metadata": {},
     "output_type": "execute_result"
    }
   ],
   "source": [
    "type(b)"
   ]
  },
  {
   "cell_type": "code",
   "execution_count": 99,
   "id": "41dc1d39-a8e4-425e-af36-bc02807d998a",
   "metadata": {},
   "outputs": [
    {
     "name": "stdin",
     "output_type": "stream",
     "text": [
      " 654654\n"
     ]
    }
   ],
   "source": [
    "d = int(input())"
   ]
  },
  {
   "cell_type": "code",
   "execution_count": 100,
   "id": "8860c4c3-d82a-401d-9fe3-733cb1dc89c6",
   "metadata": {},
   "outputs": [
    {
     "data": {
      "text/plain": [
       "654654"
      ]
     },
     "execution_count": 100,
     "metadata": {},
     "output_type": "execute_result"
    }
   ],
   "source": [
    "d"
   ]
  },
  {
   "cell_type": "code",
   "execution_count": 101,
   "id": "990fbbc8-401c-43d3-9fbe-2cd94c259fc1",
   "metadata": {},
   "outputs": [
    {
     "data": {
      "text/plain": [
       "int"
      ]
     },
     "execution_count": 101,
     "metadata": {},
     "output_type": "execute_result"
    }
   ],
   "source": [
    "type(d)"
   ]
  },
  {
   "cell_type": "code",
   "execution_count": 105,
   "id": "d84f4429-116b-4c48-8c38-d22a87b78a05",
   "metadata": {},
   "outputs": [],
   "source": [
    "s = \"sudh\""
   ]
  },
  {
   "cell_type": "code",
   "execution_count": 106,
   "id": "f4050d01-07a1-4538-8ebc-910323cb3001",
   "metadata": {},
   "outputs": [
    {
     "data": {
      "text/plain": [
       "'u'"
      ]
     },
     "execution_count": 106,
     "metadata": {},
     "output_type": "execute_result"
    }
   ],
   "source": [
    "s[1]"
   ]
  },
  {
   "cell_type": "code",
   "execution_count": 107,
   "id": "7708f264-bba5-4378-ae00-73c9b510f2fc",
   "metadata": {},
   "outputs": [
    {
     "data": {
      "text/plain": [
       "'h'"
      ]
     },
     "execution_count": 107,
     "metadata": {},
     "output_type": "execute_result"
    }
   ],
   "source": [
    "s[3]"
   ]
  },
  {
   "cell_type": "code",
   "execution_count": 109,
   "id": "1f1ea68c-3251-4b1e-bd04-9903f9df93fc",
   "metadata": {},
   "outputs": [
    {
     "ename": "IndexError",
     "evalue": "string index out of range",
     "output_type": "error",
     "traceback": [
      "\u001b[0;31m---------------------------------------------------------------------------\u001b[0m",
      "\u001b[0;31mIndexError\u001b[0m                                Traceback (most recent call last)",
      "Cell \u001b[0;32mIn[109], line 1\u001b[0m\n\u001b[0;32m----> 1\u001b[0m \u001b[43ms\u001b[49m\u001b[43m[\u001b[49m\u001b[38;5;241;43m100\u001b[39;49m\u001b[43m]\u001b[49m\n",
      "\u001b[0;31mIndexError\u001b[0m: string index out of range"
     ]
    }
   ],
   "source": [
    "s[100]"
   ]
  },
  {
   "cell_type": "code",
   "execution_count": 110,
   "id": "4107c1a3-fc20-41bc-b49e-5a5f5b8151db",
   "metadata": {},
   "outputs": [
    {
     "data": {
      "text/plain": [
       "'s'"
      ]
     },
     "execution_count": 110,
     "metadata": {},
     "output_type": "execute_result"
    }
   ],
   "source": [
    "s[0]"
   ]
  },
  {
   "cell_type": "code",
   "execution_count": 111,
   "id": "c88b60c9-c36c-46c2-b0d6-28b36da2c252",
   "metadata": {},
   "outputs": [
    {
     "data": {
      "text/plain": [
       "'d'"
      ]
     },
     "execution_count": 111,
     "metadata": {},
     "output_type": "execute_result"
    }
   ],
   "source": [
    "s[2]"
   ]
  },
  {
   "cell_type": "code",
   "execution_count": 112,
   "id": "df8deeec-16f8-4e83-beda-7fe32cf452c1",
   "metadata": {},
   "outputs": [
    {
     "data": {
      "text/plain": [
       "'h'"
      ]
     },
     "execution_count": 112,
     "metadata": {},
     "output_type": "execute_result"
    }
   ],
   "source": [
    "s[-1]"
   ]
  },
  {
   "cell_type": "code",
   "execution_count": 113,
   "id": "f8c9e4e1-acf3-4af0-9387-857a8b3248f8",
   "metadata": {},
   "outputs": [
    {
     "data": {
      "text/plain": [
       "'s'"
      ]
     },
     "execution_count": 113,
     "metadata": {},
     "output_type": "execute_result"
    }
   ],
   "source": [
    "s[-4]"
   ]
  },
  {
   "cell_type": "code",
   "execution_count": 114,
   "id": "7d3f2996-42ce-44a8-a826-a07a538ecec4",
   "metadata": {},
   "outputs": [
    {
     "ename": "IndexError",
     "evalue": "string index out of range",
     "output_type": "error",
     "traceback": [
      "\u001b[0;31m---------------------------------------------------------------------------\u001b[0m",
      "\u001b[0;31mIndexError\u001b[0m                                Traceback (most recent call last)",
      "Cell \u001b[0;32mIn[114], line 1\u001b[0m\n\u001b[0;32m----> 1\u001b[0m \u001b[43ms\u001b[49m\u001b[43m[\u001b[49m\u001b[38;5;241;43m-\u001b[39;49m\u001b[38;5;241;43m34\u001b[39;49m\u001b[43m]\u001b[49m\n",
      "\u001b[0;31mIndexError\u001b[0m: string index out of range"
     ]
    }
   ],
   "source": [
    "s[-34]"
   ]
  },
  {
   "cell_type": "code",
   "execution_count": 115,
   "id": "e6f50b7b-c578-4752-ab1b-0fe94eb08013",
   "metadata": {},
   "outputs": [],
   "source": [
    "s1 = \"pwskills\""
   ]
  },
  {
   "cell_type": "code",
   "execution_count": 119,
   "id": "345dad45-23f5-4093-b68f-360eab007d5a",
   "metadata": {},
   "outputs": [
    {
     "data": {
      "text/plain": [
       "'pw'"
      ]
     },
     "execution_count": 119,
     "metadata": {},
     "output_type": "execute_result"
    }
   ],
   "source": [
    "s1[0:2]"
   ]
  },
  {
   "cell_type": "code",
   "execution_count": 120,
   "id": "d194ae6c-d357-42c6-b7bd-de3e5bd2ad98",
   "metadata": {},
   "outputs": [
    {
     "data": {
      "text/plain": [
       "'skill'"
      ]
     },
     "execution_count": 120,
     "metadata": {},
     "output_type": "execute_result"
    }
   ],
   "source": [
    "s1[2:7]"
   ]
  },
  {
   "cell_type": "code",
   "execution_count": 121,
   "id": "1184929e-3374-4017-a1fd-2a3bcc4e35df",
   "metadata": {},
   "outputs": [
    {
     "data": {
      "text/plain": [
       "'skills'"
      ]
     },
     "execution_count": 121,
     "metadata": {},
     "output_type": "execute_result"
    }
   ],
   "source": [
    "s1[2:8]"
   ]
  },
  {
   "cell_type": "code",
   "execution_count": 122,
   "id": "eb3f50b2-8f6f-4da8-aa1a-6f7d051cc4ab",
   "metadata": {},
   "outputs": [
    {
     "data": {
      "text/plain": [
       "'skills'"
      ]
     },
     "execution_count": 122,
     "metadata": {},
     "output_type": "execute_result"
    }
   ],
   "source": [
    "s1[2:]"
   ]
  },
  {
   "cell_type": "code",
   "execution_count": 125,
   "id": "2c02f901-62b4-4d53-9fa3-22f0be8c5f27",
   "metadata": {},
   "outputs": [
    {
     "data": {
      "text/plain": [
       "'psil'"
      ]
     },
     "execution_count": 125,
     "metadata": {},
     "output_type": "execute_result"
    }
   ],
   "source": [
    "s1[0:7:2]"
   ]
  },
  {
   "cell_type": "code",
   "execution_count": 126,
   "id": "3bd68788-75e3-4a7d-9ed7-b4dce0c235e9",
   "metadata": {},
   "outputs": [
    {
     "data": {
      "text/plain": [
       "'pwskills'"
      ]
     },
     "execution_count": 126,
     "metadata": {},
     "output_type": "execute_result"
    }
   ],
   "source": [
    "s1"
   ]
  },
  {
   "cell_type": "code",
   "execution_count": 129,
   "id": "261c66fe-f35a-414c-82e3-55bfd532b401",
   "metadata": {},
   "outputs": [
    {
     "data": {
      "text/plain": [
       "'slli'"
      ]
     },
     "execution_count": 129,
     "metadata": {},
     "output_type": "execute_result"
    }
   ],
   "source": [
    "s1[7:3:-1]"
   ]
  },
  {
   "cell_type": "code",
   "execution_count": 134,
   "id": "80cd0f3c-0995-4f02-8800-7025d7076df1",
   "metadata": {},
   "outputs": [
    {
     "data": {
      "text/plain": [
       "'slli'"
      ]
     },
     "execution_count": 134,
     "metadata": {},
     "output_type": "execute_result"
    }
   ],
   "source": [
    "s1[-1:-5:-1]"
   ]
  },
  {
   "cell_type": "code",
   "execution_count": 138,
   "id": "af3de274-bb56-4d7e-9d36-412acbe05fc8",
   "metadata": {},
   "outputs": [
    {
     "data": {
      "text/plain": [
       "'sllikswp'"
      ]
     },
     "execution_count": 138,
     "metadata": {},
     "output_type": "execute_result"
    }
   ],
   "source": [
    "s1[7:-9:-1]"
   ]
  },
  {
   "cell_type": "code",
   "execution_count": 139,
   "id": "e0c49519-bd0f-4537-8b0a-37d82718783c",
   "metadata": {},
   "outputs": [
    {
     "data": {
      "text/plain": [
       "'sllikswp'"
      ]
     },
     "execution_count": 139,
     "metadata": {},
     "output_type": "execute_result"
    }
   ],
   "source": [
    "s1[::-1]"
   ]
  },
  {
   "cell_type": "code",
   "execution_count": 140,
   "id": "7f0d1865-c1f5-4b42-a942-9743a143b3ce",
   "metadata": {},
   "outputs": [
    {
     "data": {
      "text/plain": [
       "'pwskills'"
      ]
     },
     "execution_count": 140,
     "metadata": {},
     "output_type": "execute_result"
    }
   ],
   "source": [
    "s1"
   ]
  },
  {
   "cell_type": "code",
   "execution_count": 145,
   "id": "f2971d4e-05fd-4e77-a7c4-e1b4a23838c6",
   "metadata": {},
   "outputs": [
    {
     "ename": "TypeError",
     "evalue": "'str' object does not support item assignment",
     "output_type": "error",
     "traceback": [
      "\u001b[0;31m---------------------------------------------------------------------------\u001b[0m",
      "\u001b[0;31mTypeError\u001b[0m                                 Traceback (most recent call last)",
      "Cell \u001b[0;32mIn[145], line 1\u001b[0m\n\u001b[0;32m----> 1\u001b[0m \u001b[43ms1\u001b[49m\u001b[43m[\u001b[49m\u001b[38;5;241;43m0\u001b[39;49m\u001b[43m]\u001b[49m  \u001b[38;5;241m=\u001b[39m \u001b[38;5;124m'\u001b[39m\u001b[38;5;124ms\u001b[39m\u001b[38;5;124m'\u001b[39m\n",
      "\u001b[0;31mTypeError\u001b[0m: 'str' object does not support item assignment"
     ]
    }
   ],
   "source": [
    "s1[0]  = 's'"
   ]
  },
  {
   "cell_type": "code",
   "execution_count": 142,
   "id": "8cde1d35-20b4-4fff-8b1d-876bd4ffe58c",
   "metadata": {},
   "outputs": [],
   "source": [
    "a = 10\n"
   ]
  },
  {
   "cell_type": "code",
   "execution_count": 143,
   "id": "bf4c0be0-78e6-463f-894e-7eb5a4cb0c30",
   "metadata": {},
   "outputs": [],
   "source": [
    "a = 20"
   ]
  },
  {
   "cell_type": "code",
   "execution_count": 144,
   "id": "f435ce00-e409-4dd1-b5ec-e630743465e2",
   "metadata": {},
   "outputs": [
    {
     "data": {
      "text/plain": [
       "20"
      ]
     },
     "execution_count": 144,
     "metadata": {},
     "output_type": "execute_result"
    }
   ],
   "source": [
    "a"
   ]
  },
  {
   "cell_type": "code",
   "execution_count": 146,
   "id": "494f7a8e-0148-4c3d-b4fd-968afb799605",
   "metadata": {},
   "outputs": [],
   "source": [
    "s1 = 'swskills'"
   ]
  },
  {
   "cell_type": "code",
   "execution_count": 147,
   "id": "07141fdc-e07a-47b3-a6cc-b46fc062fb31",
   "metadata": {},
   "outputs": [
    {
     "data": {
      "text/plain": [
       "'swskills'"
      ]
     },
     "execution_count": 147,
     "metadata": {},
     "output_type": "execute_result"
    }
   ],
   "source": [
    "s1"
   ]
  },
  {
   "cell_type": "code",
   "execution_count": 148,
   "id": "b939595c-76a2-4d9a-a3e2-955e05ee292b",
   "metadata": {},
   "outputs": [
    {
     "ename": "TypeError",
     "evalue": "'str' object does not support item assignment",
     "output_type": "error",
     "traceback": [
      "\u001b[0;31m---------------------------------------------------------------------------\u001b[0m",
      "\u001b[0;31mTypeError\u001b[0m                                 Traceback (most recent call last)",
      "Cell \u001b[0;32mIn[148], line 1\u001b[0m\n\u001b[0;32m----> 1\u001b[0m \u001b[43ms1\u001b[49m\u001b[43m[\u001b[49m\u001b[38;5;241;43m0\u001b[39;49m\u001b[43m]\u001b[49m\u001b[38;5;241m=\u001b[39m \u001b[38;5;124m'\u001b[39m\u001b[38;5;124mp\u001b[39m\u001b[38;5;124m'\u001b[39m\n",
      "\u001b[0;31mTypeError\u001b[0m: 'str' object does not support item assignment"
     ]
    }
   ],
   "source": [
    "s1[0]= 'p'"
   ]
  },
  {
   "cell_type": "code",
   "execution_count": null,
   "id": "e95a0482-74e2-4e8b-8f6a-589239558529",
   "metadata": {},
   "outputs": [],
   "source": []
  }
 ],
 "metadata": {
  "kernelspec": {
   "display_name": "Python 3 (ipykernel)",
   "language": "python",
   "name": "python3"
  },
  "language_info": {
   "codemirror_mode": {
    "name": "ipython",
    "version": 3
   },
   "file_extension": ".py",
   "mimetype": "text/x-python",
   "name": "python",
   "nbconvert_exporter": "python",
   "pygments_lexer": "ipython3",
   "version": "3.10.8"
  }
 },
 "nbformat": 4,
 "nbformat_minor": 5
}
